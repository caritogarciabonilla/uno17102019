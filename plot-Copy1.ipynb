{
 "cells": [
  {
   "cell_type": "code",
   "execution_count": null,
   "metadata": {},
   "outputs": [],
   "source": [
    "!pip install matplotlib"
   ]
  },
  {
   "cell_type": "code",
   "execution_count": null,
   "metadata": {},
   "outputs": [],
   "source": [
    "2+2"
   ]
  },
  {
   "cell_type": "code",
   "execution_count": null,
   "metadata": {},
   "outputs": [],
   "source": [
    "import math\n",
    "#matplotlib inline\n",
    "%matplotlib inline\n",
    "%pylab inline\n",
    "\n",
    "xmin, xmax = -2. * math.pi, 2. * math.pi\n",
    "n = 1000\n",
    "x = [0.] * n\n",
    "y = [0.] * n\n",
    "dx = (xmax - xmin)/(n-1)\n",
    "for i in range(n):\n",
    "    xpt = xmin + i * dx\n",
    "    x[i] = xpt\n",
    "    y[i] = math.sin(xpt)**2\n",
    "\n",
    "pylab.plot(x,y)\n",
    "pylab.show()"
   ]
  },
  {
   "cell_type": "code",
   "execution_count": null,
   "metadata": {},
   "outputs": [],
   "source": [
    "#https://jakevdp.github.io/mpl_tutorial/tutorial_pages/tut1.html\n",
    "\n",
    "''''\n",
    "https://www.onlinegdb.com/online_python_compiler\n",
    "https://jupyter-notebook.readthedocs.io/en/stable/examples/Notebook/Typesetting%20Equations.html#The-Lorenz-Equations\n",
    "https://www.tutorialspoint.com/jupyter/jupyter_notebook_plotting.htm\n",
    "IPython has now only two roles to fulfill: being the Python backend to the Jupyter Notebook, which is also known as the kernel, and an interactive Python shell\n",
    "https://scipython.com/book/chapter-3-simple-plotting-with-pylab/examples/a-simple-plot-with-pylab/\n",
    "https://docs.scipy.org/doc/numpy/reference/generated/numpy.linalg.solve.html#numpy.linalg.solve\n",
    "´´´"
   ]
  }
 ],
 "metadata": {
  "kernelspec": {
   "display_name": "Python 3",
   "language": "python",
   "name": "python3"
  },
  "language_info": {
   "codemirror_mode": {
    "name": "ipython",
    "version": 3
   },
   "file_extension": ".py",
   "mimetype": "text/x-python",
   "name": "python",
   "nbconvert_exporter": "python",
   "pygments_lexer": "ipython3",
   "version": "3.7.3"
  }
 },
 "nbformat": 4,
 "nbformat_minor": 2
}
